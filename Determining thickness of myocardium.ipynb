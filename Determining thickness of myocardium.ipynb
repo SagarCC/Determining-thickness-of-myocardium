{
 "cells": [
  {
   "cell_type": "code",
   "execution_count": 1,
   "metadata": {},
   "outputs": [],
   "source": [
    "import pydicom as dicom\n",
    "import matplotlib.pyplot as plt\n",
    "from os import listdir\n",
    "import os\n",
    "import shutil\n",
    "import glob\n",
    "import cv2\n",
    "import numpy as np\n",
    "# from skimage import exposure\n",
    "from math import *\n",
    "from importlib import reload"
   ]
  },
  {
   "cell_type": "code",
   "execution_count": 2,
   "metadata": {},
   "outputs": [],
   "source": [
    "def func(path):\n",
    "    shutil.copyfile('')\n",
    "    fileLoc = path[:45]+'thicknesses/myocardium.txt'\n",
    "    inputFile = open(fileLoc,'r+');\n",
    "    line = inputFile.readlines()\n",
    "    arr = line[0].split();\n",
    "    res = float(arr.pop(0));\n",
    "    newLine = \" \".join(arr)\n",
    "    inputFile = open(fileLoc, 'w')\n",
    "    inputFile.write('');\n",
    "    inputFile.write(newLine)\n",
    "    inputFile.close()\n",
    "    return res"
   ]
  },
  {
   "cell_type": "code",
   "execution_count": 3,
   "metadata": {},
   "outputs": [],
   "source": [
    "def calulateAverageThickness(path):\n",
    "#     read image\n",
    "    src=cv2.imread(path)\n",
    "#     get grayscale image\n",
    "    grayImage=cv2.cvtColor(src, cv2.COLOR_BGR2GRAY)\n",
    "#     get binary image\n",
    "    ret,thresh = cv2.threshold(grayImage,127,255,0)\n",
    "#     calculate moments of binary image\n",
    "    M = cv2.moments(thresh)\n",
    "#     calculate x and y coordinates of center\n",
    "    cX = M[\"m10\"] / M[\"m00\"]\n",
    "    cY = M[\"m01\"] / M[\"m00\"]\n",
    "#     list for plotting\n",
    "    angles=[]\n",
    "    thicknesses=[]\n",
    "    for angle in range(0,360):\n",
    "        rf=0;rl=0;flag1=0;flag2=0\n",
    "        for radius in range(1,50):\n",
    "            x=int(cX+radius*cos(angle * 3.14 / 180.0))\n",
    "            y=int(cY+radius*sin(angle * 3.14 / 180.0))\n",
    "#             condition to check inner boundary is met\n",
    "            if thresh[x][y]==255 and flag1==0:\n",
    "                flag1=1\n",
    "                rf=radius\n",
    "            elif flag1==1:\n",
    "                if thresh[x][y]==255:\n",
    "                    rl=radius\n",
    "                elif thresh[x][y]==0:\n",
    "#               condition to check if point is out of outer boundary\n",
    "                    flag2=1;\n",
    "                    break\n",
    "        if flag2==1:\n",
    "#             print('angle:',angle,'inner-boundary radius:',rf,'outer-boundary radius:',rl,'thickness:',rl-rf,sep=' ')\n",
    "            angles.append(angle)\n",
    "            thicknesses.append(rl-rf)\n",
    "    \n",
    "    sumOfThicknesses = sum(thicknesses);\n",
    "#     print(avg)\n",
    "    averageThickness = sumOfThicknesses/len(thicknesses);\n",
    "    return averageThickness"
   ]
  },
  {
   "cell_type": "code",
   "execution_count": 4,
   "metadata": {},
   "outputs": [],
   "source": [
    "def getOverlay(s):\n",
    "    img2 = dicom.dcmread(s)\n",
    "    img2.decompress()\n",
    "#     img = cv2.imread(s)\n",
    "    pimg2 = img2.pixel_array;\n",
    "    overlay = img2.overlay_array(0x6000);\n",
    "    return overlay"
   ]
  },
  {
   "cell_type": "code",
   "execution_count": 5,
   "metadata": {},
   "outputs": [],
   "source": [
    "def setUpRings(path):\n",
    "    uncropped_path = '/Users/notroot/Desktop/Demo/Intermediate Generated Data/rings'+path[52]\n",
    "    cropped_path = '/Users/notroot/Desktop/Demo/Intermediate Generated Data/cropped_rings'+path[52];\n",
    "\n",
    "    existing_images_in_path = [f for f in glob.glob(uncropped_path)]\n",
    "    existing_images_in_cropped_path = [f for f in glob.glob(cropped_path)]\n",
    "\n",
    "# delete existing images in destination directory and the directory.\n",
    "\n",
    "    if(os.path.isdir(cropped_path)==True):\n",
    "        os.chmod(cropped_path, 0o777);\n",
    "        shutil.rmtree(cropped_path, ignore_errors = False)\n",
    "    if(os.path.isdir(uncropped_path)==True):\n",
    "        os.chmod(uncropped_path, 0o777);\n",
    "        shutil.rmtree(uncropped_path, ignore_errors = False)\n",
    "    os.mkdir(cropped_path);\n",
    "    os.mkdir(uncropped_path);\n",
    "# os.chmod(cropped_path, 0o777);\n",
    "# os.chmod(path, 0o777);\n",
    "    heart_dicom_images=[f for f in glob.glob(path+'/*')];\n",
    "    for heart in heart_dicom_images:\n",
    "        fileName=heart[54:];\n",
    "        ring=getOverlay(heart);\n",
    "        plt.imshow(ring);\n",
    "        plt.savefig(uncropped_path+'/'+fileName+'.png');"
   ]
  },
  {
   "cell_type": "code",
   "execution_count": 6,
   "metadata": {
    "scrolled": false
   },
   "outputs": [],
   "source": [
    "def setUpCroppedRings(path):\n",
    "    rings_png_images=[f for f in glob.glob('/Users/notroot/Desktop/Demo/Intermediate Generated Data/rings'+path[52]+'/*.png')]\n",
    "    for image in rings_png_images:\n",
    "        filename=image[62:]\n",
    "        img = cv2.imread(image)\n",
    "        crop_img = img[100:170, 180:250]\n",
    "#     cv2.imshow(\"cropped\", img)\n",
    "        cv2.imwrite('/Users/notroot/Desktop/Demo/Intermediate Generated Data/cropped_rings'+path[52]+'/'+filename,crop_img)\n",
    "#     cv2.waitKey(0)"
   ]
  },
  {
   "cell_type": "code",
   "execution_count": 7,
   "metadata": {},
   "outputs": [],
   "source": [
    "def displayThickness(path):\n",
    "    sourceFolder='/Users/notroot/Desktop/Demo/Intermediate Generated Data/cropped_rings'+path[52]+'/*.png'\n",
    "    list_of_myocardium_overlays = [f for f in glob.glob(sourceFolder)]\n",
    "    list_of_average_thicknesses = []\n",
    "    x_axis = [ith_image for ith_image in range(1,len(list_of_myocardium_overlays)+1)]\n",
    "    for img in list_of_myocardium_overlays:\n",
    "        res=calulateAverageThickness(img)\n",
    "        list_of_average_thicknesses.append(res)\n",
    "    \n",
    "#     print(img)\n",
    "\n",
    "    plt.plot(x_axis,list_of_average_thicknesses)\n",
    "    plt.show()"
   ]
  },
  {
   "cell_type": "code",
   "execution_count": 8,
   "metadata": {},
   "outputs": [
    {
     "name": "stdout",
     "output_type": "stream",
     "text": [
      "/Users/notroot/Desktop/Demo/Input Dataset/ring_dicom1\n"
     ]
    },
    {
     "data": {
      "image/png": "[encoded data removed]",
      "text/plain": [
       "<Figure size 432x288 with 1 Axes>"
      ]
     },
     "metadata": {
      "needs_background": "light"
     },
     "output_type": "display_data"
    }
   ],
   "source": [
    "path=input()\n",
    "# print(len(path))\n",
    "# print(path[52])\n",
    "setUpRings(path)\n",
    "setUpCroppedRings(path)\n",
    "reload(plt)\n",
    "displayThickness(path)"
   ]
  }
 ],
 "metadata": {
  "kernelspec": {
   "display_name": "Python 3",
   "language": "python",
   "name": "python3"
  },
  "language_info": {
   "codemirror_mode": {
    "name": "ipython",
    "version": 3
   },
   "file_extension": ".py",
   "mimetype": "text/x-python",
   "name": "python",
   "nbconvert_exporter": "python",
   "pygments_lexer": "ipython3",
   "version": "3.6.12"
  }
 },
 "nbformat": 4,
 "nbformat_minor": 4
}
